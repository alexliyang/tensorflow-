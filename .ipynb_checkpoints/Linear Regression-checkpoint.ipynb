{
 "cells": [
  {
   "attachments": {},
   "cell_type": "markdown",
   "metadata": {},
   "source": [
    "## Build graph using TF operations"
   ]
  },
  {
   "cell_type": "code",
   "execution_count": 1,
   "metadata": {
    "collapsed": true
   },
   "outputs": [],
   "source": [
    "import tensorflow as tf\n",
    "# x and y data\n",
    "x_train = [1,2,3]\n",
    "y_train = [1,2,3]"
   ]
  },
  {
   "cell_type": "code",
   "execution_count": 2,
   "metadata": {
    "collapsed": true
   },
   "outputs": [],
   "source": [
    "W = tf.Variable(tf.random_normal([1]),name ='weight')\n",
    "b = tf.Variable(tf.random_normal([1]),name ='bias')\n",
    "# our hypothesis XW+b\n",
    "hypothesis = x_train*W+b"
   ]
  },
  {
   "attachments": {
    "image.png": {
     "image/png": "[encoded data removed]"
    }
   },
   "cell_type": "markdown",
   "metadata": {},
   "source": [
    "![image.png](attachment:image.png)"
   ]
  },
  {
   "cell_type": "code",
   "execution_count": 3,
   "metadata": {
    "collapsed": true
   },
   "outputs": [],
   "source": [
    "# cost/loss function\n",
    "cost = tf.reduce_mean(tf.square(hypothesis - y_train))"
   ]
  },
  {
   "cell_type": "markdown",
   "metadata": {},
   "source": [
    "### GradientDescen"
   ]
  },
  {
   "cell_type": "code",
   "execution_count": 4,
   "metadata": {
    "collapsed": true
   },
   "outputs": [],
   "source": [
    "# Minimize \n",
    "optimizer = tf.train.GradientDescentOptimizer(learning_rate=0.01)\n",
    "train = optimizer.minimize(cost)"
   ]
  },
  {
   "cell_type": "code",
   "execution_count": 5,
   "metadata": {
    "collapsed": true
   },
   "outputs": [],
   "source": [
    "# Launch the graph in a session\n",
    "sess = tf.Session()\n",
    "# Initialize global variables in the graph.\n",
    "sess.run(tf.global_variables_initializer())\n",
    "# 从课程上我们知道一般是w b需要进行初始化，这是在运行之前必须进行的操作"
   ]
  },
  {
   "cell_type": "code",
   "execution_count": 6,
   "metadata": {},
   "outputs": [
    {
     "name": "stdout",
     "output_type": "stream",
     "text": [
      "0 9.05619 [ 0.03286071] [-0.96961832]\n",
      "20 0.108924 [ 1.07995498] [-0.48342574]\n",
      "40 0.0253409 [ 1.17157304] [-0.41875058]\n",
      "60 0.0223479 [ 1.17259145] [-0.39507589]\n",
      "80 0.0202906 [ 1.16534495] [-0.37612844]\n",
      "100 0.0184282 [ 1.15765667] [-0.35841551]\n",
      "120 0.0167368 [ 1.15025532] [-0.34156793]\n",
      "140 0.0152006 [ 1.14319468] [-0.32551521]\n",
      "160 0.0138055 [ 1.13646495] [-0.31021711]\n",
      "180 0.0125383 [ 1.13005161] [-0.29563797]\n",
      "200 0.0113875 [ 1.12393975] [-0.28174406]\n",
      "220 0.0103423 [ 1.11811495] [-0.26850325]\n",
      "240 0.00939308 [ 1.11256421] [-0.25588459]\n",
      "260 0.00853094 [ 1.10727406] [-0.24385899]\n",
      "280 0.00774794 [ 1.10223246] [-0.23239852]\n",
      "300 0.0070368 [ 1.09742796] [-0.22147655]\n",
      "320 0.00639094 [ 1.09284925] [-0.21106799]\n",
      "340 0.00580435 [ 1.0884856] [-0.20114861]\n",
      "360 0.00527159 [ 1.0843271] [-0.19169538]\n",
      "380 0.00478776 [ 1.08036423] [-0.18268657]\n",
      "400 0.00434833 [ 1.07658732] [-0.174101]\n",
      "420 0.00394922 [ 1.07298803] [-0.16591889]\n",
      "440 0.00358675 [ 1.06955791] [-0.15812133]\n",
      "460 0.00325753 [ 1.06628895] [-0.15069023]\n",
      "480 0.00295855 [ 1.06317365] [-0.14360836]\n",
      "500 0.00268699 [ 1.06020427] [-0.13685916]\n",
      "520 0.00244037 [ 1.05737507] [-0.13042718]\n",
      "540 0.00221638 [ 1.0546788] [-0.12429759]\n",
      "560 0.00201295 [ 1.05210912] [-0.1184561]\n",
      "580 0.0018282 [ 1.04966009] [-0.11288912]\n",
      "600 0.0016604 [ 1.04732621] [-0.10758374]\n",
      "620 0.001508 [ 1.04510212] [-0.10252768]\n",
      "640 0.00136959 [ 1.04298246] [-0.09770925]\n",
      "660 0.00124389 [ 1.0409627] [-0.09311736]\n",
      "680 0.00112972 [ 1.03903735] [-0.0887413]\n",
      "700 0.00102603 [ 1.03720284] [-0.08457077]\n",
      "720 0.000931861 [ 1.03545451] [-0.0805963]\n",
      "740 0.000846326 [ 1.0337882] [-0.07680859]\n",
      "760 0.00076865 [ 1.03220034] [-0.07319885]\n",
      "780 0.000698101 [ 1.03068721] [-0.06975886]\n",
      "800 0.000634026 [ 1.0292449] [-0.06648052]\n",
      "820 0.000575832 [ 1.02787054] [-0.06335619]\n",
      "840 0.000522981 [ 1.02656078] [-0.0603787]\n",
      "860 0.000474981 [ 1.02531242] [-0.05754115]\n",
      "880 0.000431386 [ 1.02412283] [-0.05483692]\n",
      "900 0.000391792 [ 1.02298927] [-0.05225985]\n",
      "920 0.000355834 [ 1.021909] [-0.04980393]\n",
      "940 0.000323176 [ 1.02087951] [-0.04746343]\n",
      "960 0.000293517 [ 1.01989841] [-0.04523303]\n",
      "980 0.000266574 [ 1.01896286] [-0.04310723]\n",
      "1000 0.000242108 [ 1.01807165] [-0.04108128]\n",
      "1020 0.000219884 [ 1.01722229] [-0.03915055]\n",
      "1040 0.000199703 [ 1.01641297] [-0.03731061]\n",
      "1060 0.000181373 [ 1.01564157] [-0.03555713]\n",
      "1080 0.000164728 [ 1.01490653] [-0.03388605]\n",
      "1100 0.000149606 [ 1.01420593] [-0.03229351]\n",
      "1120 0.000135876 [ 1.01353836] [-0.03077585]\n",
      "1140 0.000123404 [ 1.01290214] [-0.02932952]\n",
      "1160 0.000112077 [ 1.01229572] [-0.02795116]\n",
      "1180 0.000101791 [ 1.01171792] [-0.02663754]\n",
      "1200 9.24491e-05 [ 1.01116729] [-0.02538572]\n",
      "1220 8.39617e-05 [ 1.01064241] [-0.0241927]\n",
      "1240 7.62555e-05 [ 1.01014221] [-0.02305572]\n",
      "1260 6.92564e-05 [ 1.00966549] [-0.0219721]\n",
      "1280 6.28995e-05 [ 1.0092113] [-0.02093948]\n",
      "1300 5.71264e-05 [ 1.00877845] [-0.01995538]\n",
      "1320 5.18831e-05 [ 1.00836587] [-0.01901758]\n",
      "1340 4.71213e-05 [ 1.00797272] [-0.01812381]\n",
      "1360 4.27976e-05 [ 1.00759804] [-0.01727209]\n",
      "1380 3.88689e-05 [ 1.00724101] [-0.0164604]\n",
      "1400 3.5301e-05 [ 1.00690067] [-0.01568684]\n",
      "1420 3.20612e-05 [ 1.0065763] [-0.0149496]\n",
      "1440 2.91186e-05 [ 1.00626731] [-0.01424702]\n",
      "1460 2.64454e-05 [ 1.00597274] [-0.01357746]\n",
      "1480 2.40188e-05 [ 1.00569212] [-0.01293939]\n",
      "1500 2.18141e-05 [ 1.0054245] [-0.01233128]\n",
      "1520 1.98122e-05 [ 1.00516963] [-0.01175174]\n",
      "1540 1.79931e-05 [ 1.00492656] [-0.01119946]\n",
      "1560 1.63421e-05 [ 1.00469518] [-0.01067312]\n",
      "1580 1.48415e-05 [ 1.00447452] [-0.01017156]\n",
      "1600 1.34795e-05 [ 1.00426424] [-0.00969354]\n",
      "1620 1.22425e-05 [ 1.00406384] [-0.00923796]\n",
      "1640 1.11188e-05 [ 1.00387287] [-0.00880381]\n",
      "1660 1.00984e-05 [ 1.00369084] [-0.00839009]\n",
      "1680 9.17149e-06 [ 1.00351739] [-0.0079958]\n",
      "1700 8.32944e-06 [ 1.00335205] [-0.00762001]\n",
      "1720 7.56525e-06 [ 1.00319445] [-0.00726191]\n",
      "1740 6.87096e-06 [ 1.00304437] [-0.00692065]\n",
      "1760 6.24034e-06 [ 1.00290132] [-0.0065954]\n",
      "1780 5.66751e-06 [ 1.00276506] [-0.00628546]\n",
      "1800 5.14781e-06 [ 1.00263512] [-0.00599012]\n",
      "1820 4.67499e-06 [ 1.00251126] [-0.00570866]\n",
      "1840 4.24599e-06 [ 1.00239325] [-0.00544042]\n",
      "1860 3.85665e-06 [ 1.00228083] [-0.00518474]\n",
      "1880 3.50257e-06 [ 1.00217366] [-0.00494109]\n",
      "1900 3.18121e-06 [ 1.0020715] [-0.00470888]\n",
      "1920 2.88932e-06 [ 1.00197423] [-0.00448763]\n",
      "1940 2.62385e-06 [ 1.00188148] [-0.00427677]\n",
      "1960 2.3833e-06 [ 1.00179315] [-0.00407584]\n",
      "1980 2.16459e-06 [ 1.00170875] [-0.0038844]\n",
      "2000 1.96602e-06 [ 1.00162864] [-0.00370193]\n"
     ]
    }
   ],
   "source": [
    "# Fit the line\n",
    "for step in range(2001):\n",
    "    sess.run(train)\n",
    "    if step % 20 ==0:\n",
    "        print(step,sess.run(cost),sess.run(W),sess.run(b))"
   ]
  },
  {
   "cell_type": "markdown",
   "metadata": {},
   "source": [
    "### placeholder"
   ]
  },
  {
   "cell_type": "code",
   "execution_count": 11,
   "metadata": {},
   "outputs": [
    {
     "name": "stdout",
     "output_type": "stream",
     "text": [
      "0 1.42105e-10 [ 1.00001407] [ -3.13294877e-05]\n",
      "20 1.42105e-10 [ 1.00001407] [ -3.13294877e-05]\n",
      "40 1.42105e-10 [ 1.00001407] [ -3.13294877e-05]\n",
      "60 1.42105e-10 [ 1.00001407] [ -3.13294877e-05]\n",
      "80 1.42105e-10 [ 1.00001407] [ -3.13294877e-05]\n",
      "100 1.42105e-10 [ 1.00001407] [ -3.13294877e-05]\n",
      "120 1.42105e-10 [ 1.00001407] [ -3.13294877e-05]\n",
      "140 1.42105e-10 [ 1.00001407] [ -3.13294877e-05]\n",
      "160 1.42105e-10 [ 1.00001407] [ -3.13294877e-05]\n",
      "180 1.42105e-10 [ 1.00001407] [ -3.13294877e-05]\n",
      "200 1.42105e-10 [ 1.00001407] [ -3.13294877e-05]\n",
      "220 1.42105e-10 [ 1.00001407] [ -3.13294877e-05]\n",
      "240 1.42105e-10 [ 1.00001407] [ -3.13294877e-05]\n",
      "260 1.42105e-10 [ 1.00001407] [ -3.13294877e-05]\n",
      "280 1.42105e-10 [ 1.00001407] [ -3.13294877e-05]\n",
      "300 1.42105e-10 [ 1.00001407] [ -3.13294877e-05]\n",
      "320 1.42105e-10 [ 1.00001407] [ -3.13294877e-05]\n",
      "340 1.42105e-10 [ 1.00001407] [ -3.13294877e-05]\n",
      "360 1.42105e-10 [ 1.00001407] [ -3.13294877e-05]\n",
      "380 1.42105e-10 [ 1.00001407] [ -3.13294877e-05]\n",
      "400 1.42105e-10 [ 1.00001407] [ -3.13294877e-05]\n",
      "420 1.42105e-10 [ 1.00001407] [ -3.13294877e-05]\n",
      "440 1.42105e-10 [ 1.00001407] [ -3.13294877e-05]\n",
      "460 1.42105e-10 [ 1.00001407] [ -3.13294877e-05]\n",
      "480 1.42105e-10 [ 1.00001407] [ -3.13294877e-05]\n",
      "500 1.42105e-10 [ 1.00001407] [ -3.13294877e-05]\n",
      "520 1.42105e-10 [ 1.00001407] [ -3.13294877e-05]\n",
      "540 1.42105e-10 [ 1.00001407] [ -3.13294877e-05]\n",
      "560 1.42105e-10 [ 1.00001407] [ -3.13294877e-05]\n",
      "580 1.42105e-10 [ 1.00001407] [ -3.13294877e-05]\n",
      "600 1.42105e-10 [ 1.00001407] [ -3.13294877e-05]\n",
      "620 1.42105e-10 [ 1.00001407] [ -3.13294877e-05]\n",
      "640 1.42105e-10 [ 1.00001407] [ -3.13294877e-05]\n",
      "660 1.42105e-10 [ 1.00001407] [ -3.13294877e-05]\n",
      "680 1.42105e-10 [ 1.00001407] [ -3.13294877e-05]\n",
      "700 1.42105e-10 [ 1.00001407] [ -3.13294877e-05]\n",
      "720 1.42105e-10 [ 1.00001407] [ -3.13294877e-05]\n",
      "740 1.42105e-10 [ 1.00001407] [ -3.13294877e-05]\n",
      "760 1.42105e-10 [ 1.00001407] [ -3.13294877e-05]\n",
      "780 1.42105e-10 [ 1.00001407] [ -3.13294877e-05]\n",
      "800 1.42105e-10 [ 1.00001407] [ -3.13294877e-05]\n",
      "820 1.42105e-10 [ 1.00001407] [ -3.13294877e-05]\n",
      "840 1.42105e-10 [ 1.00001407] [ -3.13294877e-05]\n",
      "860 1.42105e-10 [ 1.00001407] [ -3.13294877e-05]\n",
      "880 1.42105e-10 [ 1.00001407] [ -3.13294877e-05]\n",
      "900 1.42105e-10 [ 1.00001407] [ -3.13294877e-05]\n",
      "920 1.42105e-10 [ 1.00001407] [ -3.13294877e-05]\n",
      "940 1.42105e-10 [ 1.00001407] [ -3.13294877e-05]\n",
      "960 1.42105e-10 [ 1.00001407] [ -3.13294877e-05]\n",
      "980 1.42105e-10 [ 1.00001407] [ -3.13294877e-05]\n",
      "1000 1.42105e-10 [ 1.00001407] [ -3.13294877e-05]\n",
      "1020 1.42105e-10 [ 1.00001407] [ -3.13294877e-05]\n",
      "1040 1.42105e-10 [ 1.00001407] [ -3.13294877e-05]\n",
      "1060 1.42105e-10 [ 1.00001407] [ -3.13294877e-05]\n",
      "1080 1.42105e-10 [ 1.00001407] [ -3.13294877e-05]\n",
      "1100 1.42105e-10 [ 1.00001407] [ -3.13294877e-05]\n",
      "1120 1.42105e-10 [ 1.00001407] [ -3.13294877e-05]\n",
      "1140 1.42105e-10 [ 1.00001407] [ -3.13294877e-05]\n",
      "1160 1.42105e-10 [ 1.00001407] [ -3.13294877e-05]\n",
      "1180 1.42105e-10 [ 1.00001407] [ -3.13294877e-05]\n",
      "1200 1.42105e-10 [ 1.00001407] [ -3.13294877e-05]\n",
      "1220 1.42105e-10 [ 1.00001407] [ -3.13294877e-05]\n",
      "1240 1.42105e-10 [ 1.00001407] [ -3.13294877e-05]\n",
      "1260 1.42105e-10 [ 1.00001407] [ -3.13294877e-05]\n",
      "1280 1.42105e-10 [ 1.00001407] [ -3.13294877e-05]\n",
      "1300 1.42105e-10 [ 1.00001407] [ -3.13294877e-05]\n",
      "1320 1.42105e-10 [ 1.00001407] [ -3.13294877e-05]\n",
      "1340 1.42105e-10 [ 1.00001407] [ -3.13294877e-05]\n",
      "1360 1.42105e-10 [ 1.00001407] [ -3.13294877e-05]\n",
      "1380 1.42105e-10 [ 1.00001407] [ -3.13294877e-05]\n",
      "1400 1.42105e-10 [ 1.00001407] [ -3.13294877e-05]\n",
      "1420 1.42105e-10 [ 1.00001407] [ -3.13294877e-05]\n",
      "1440 1.42105e-10 [ 1.00001407] [ -3.13294877e-05]\n",
      "1460 1.42105e-10 [ 1.00001407] [ -3.13294877e-05]\n",
      "1480 1.42105e-10 [ 1.00001407] [ -3.13294877e-05]\n",
      "1500 1.42105e-10 [ 1.00001407] [ -3.13294877e-05]\n",
      "1520 1.42105e-10 [ 1.00001407] [ -3.13294877e-05]\n",
      "1540 1.42105e-10 [ 1.00001407] [ -3.13294877e-05]\n",
      "1560 1.42105e-10 [ 1.00001407] [ -3.13294877e-05]\n",
      "1580 1.42105e-10 [ 1.00001407] [ -3.13294877e-05]\n",
      "1600 1.42105e-10 [ 1.00001407] [ -3.13294877e-05]\n",
      "1620 1.42105e-10 [ 1.00001407] [ -3.13294877e-05]\n",
      "1640 1.42105e-10 [ 1.00001407] [ -3.13294877e-05]\n",
      "1660 1.42105e-10 [ 1.00001407] [ -3.13294877e-05]\n",
      "1680 1.42105e-10 [ 1.00001407] [ -3.13294877e-05]\n",
      "1700 1.42105e-10 [ 1.00001407] [ -3.13294877e-05]\n",
      "1720 1.42105e-10 [ 1.00001407] [ -3.13294877e-05]\n",
      "1740 1.42105e-10 [ 1.00001407] [ -3.13294877e-05]\n",
      "1760 1.42105e-10 [ 1.00001407] [ -3.13294877e-05]\n",
      "1780 1.42105e-10 [ 1.00001407] [ -3.13294877e-05]\n",
      "1800 1.42105e-10 [ 1.00001407] [ -3.13294877e-05]\n",
      "1820 1.42105e-10 [ 1.00001407] [ -3.13294877e-05]\n",
      "1840 1.42105e-10 [ 1.00001407] [ -3.13294877e-05]\n",
      "1860 1.42105e-10 [ 1.00001407] [ -3.13294877e-05]\n",
      "1880 1.42105e-10 [ 1.00001407] [ -3.13294877e-05]\n",
      "1900 1.42105e-10 [ 1.00001407] [ -3.13294877e-05]\n",
      "1920 1.42105e-10 [ 1.00001407] [ -3.13294877e-05]\n",
      "1940 1.42105e-10 [ 1.00001407] [ -3.13294877e-05]\n",
      "1960 1.42105e-10 [ 1.00001407] [ -3.13294877e-05]\n",
      "1980 1.42105e-10 [ 1.00001407] [ -3.13294877e-05]\n",
      "2000 1.42105e-10 [ 1.00001407] [ -3.13294877e-05]\n"
     ]
    }
   ],
   "source": [
    "# Now we can use x and y in place if x_data and y_data \n",
    "# placeholders for a tensor that will always fed using feed_dict \n",
    "x = tf.placeholder(tf.float32)\n",
    "y = tf.placeholder(tf.float32)\n",
    "\n",
    "# Fit the line\n",
    "# Fit the line\n",
    "for step in range(2001):\n",
    "    cost_val, W_val, b_val, _ = \\\n",
    "        sess.run([cost, W, b, train],\n",
    "                 feed_dict={x: [1, 2, 3], y: [1, 2, 3]})\n",
    "    if step % 20 == 0:\n",
    "        print(step, cost_val, W_val, b_val)\n",
    "        "
   ]
  },
  {
   "cell_type": "code",
   "execution_count": null,
   "metadata": {
    "collapsed": true
   },
   "outputs": [],
   "source": []
  },
  {
   "cell_type": "code",
   "execution_count": null,
   "metadata": {
    "collapsed": true
   },
   "outputs": [],
   "source": []
  },
  {
   "cell_type": "code",
   "execution_count": null,
   "metadata": {
    "collapsed": true
   },
   "outputs": [],
   "source": []
  },
  {
   "cell_type": "code",
   "execution_count": null,
   "metadata": {
    "collapsed": true
   },
   "outputs": [],
   "source": []
  }
 ],
 "metadata": {
  "kernelspec": {
   "display_name": "Python 3",
   "language": "python",
   "name": "python3"
  },
  "language_info": {
   "codemirror_mode": {
    "name": "ipython",
    "version": 3
   },
   "file_extension": ".py",
   "mimetype": "text/x-python",
   "name": "python",
   "nbconvert_exporter": "python",
   "pygments_lexer": "ipython3",
   "version": "3.6.3"
  }
 },
 "nbformat": 4,
 "nbformat_minor": 2
}
