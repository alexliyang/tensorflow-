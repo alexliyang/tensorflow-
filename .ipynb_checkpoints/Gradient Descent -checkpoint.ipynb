{
 "cells": [
  {
   "cell_type": "markdown",
   "metadata": {},
   "source": [
    "# Minimize: Gradient Descent Magic\n",
    "optimizer = \n",
    "  tf.train.GradientDescentOptimizer(learning_rate=0.1)\n",
    "train = optimizer.minimize(cost)\n"
   ]
  },
  {
   "cell_type": "code",
   "execution_count": 8,
   "metadata": {
    "collapsed": true
   },
   "outputs": [],
   "source": [
    "# in fact, we can use the static function to recover \n",
    "import tensorflow as tf\n",
    "# tf Graph input\n",
    "X = [1, 2, 3]\n",
    "Y = [1, 2, 3]\n"
   ]
  },
  {
   "cell_type": "code",
   "execution_count": null,
   "metadata": {
    "collapsed": true
   },
   "outputs": [],
   "source": []
  },
  {
   "cell_type": "code",
   "execution_count": 3,
   "metadata": {},
   "outputs": [],
   "source": [
    "# Set wrong model weight\n",
    "W = tf.Variable(5.0)\n",
    "# line model\n",
    "hypothesis = X*W\n",
    "# cost/loss function\n",
    "cost = tf.reduce_mean(tf.square(hypothesis - Y))\n",
    "# Minimize:Gradient Descent Magic \n",
    "optimizer = tf.train.GradientDescentOptimizer(learning_rate = 0.1)\n",
    "train = optimizer.minimize(cost)"
   ]
  },
  {
   "cell_type": "code",
   "execution_count": 5,
   "metadata": {},
   "outputs": [],
   "source": [
    "# lauch the graph in a sessiom\n",
    "sess = tf.Session()\n",
    "# initialize gloable variable in the graph\n",
    "sess.run(tf.global_variables_initializer())\n"
   ]
  },
  {
   "cell_type": "code",
   "execution_count": 7,
   "metadata": {},
   "outputs": [
    {
     "name": "stdout",
     "output_type": "stream",
     "text": [
      "0 5.0\n",
      "1 2.46667\n",
      "2 2.29778\n",
      "3 2.28652\n",
      "4 2.28577\n",
      "5 2.28572\n",
      "6 2.28571\n",
      "7 2.28571\n",
      "8 2.28571\n",
      "9 2.28571\n",
      "10 2.28571\n",
      "11 2.28571\n",
      "12 2.28571\n",
      "13 2.28571\n",
      "14 2.28571\n",
      "15 2.28571\n",
      "16 2.28571\n",
      "17 2.28571\n",
      "18 2.28571\n",
      "19 2.28571\n",
      "20 2.28571\n",
      "21 2.28571\n",
      "22 2.28571\n",
      "23 2.28571\n",
      "24 2.28571\n",
      "25 2.28571\n",
      "26 2.28571\n",
      "27 2.28571\n",
      "28 2.28571\n",
      "29 2.28571\n",
      "30 2.28571\n",
      "31 2.28571\n",
      "32 2.28571\n",
      "33 2.28571\n",
      "34 2.28571\n",
      "35 2.28571\n",
      "36 2.28571\n",
      "37 2.28571\n",
      "38 2.28571\n",
      "39 2.28571\n",
      "40 2.28571\n",
      "41 2.28571\n",
      "42 2.28571\n",
      "43 2.28571\n",
      "44 2.28571\n",
      "45 2.28571\n",
      "46 2.28571\n",
      "47 2.28571\n",
      "48 2.28571\n",
      "49 2.28571\n",
      "50 2.28571\n",
      "51 2.28571\n",
      "52 2.28571\n",
      "53 2.28571\n",
      "54 2.28571\n",
      "55 2.28571\n",
      "56 2.28571\n",
      "57 2.28571\n",
      "58 2.28571\n",
      "59 2.28571\n",
      "60 2.28571\n",
      "61 2.28571\n",
      "62 2.28571\n",
      "63 2.28571\n",
      "64 2.28571\n",
      "65 2.28571\n",
      "66 2.28571\n",
      "67 2.28571\n",
      "68 2.28571\n",
      "69 2.28571\n",
      "70 2.28571\n",
      "71 2.28571\n",
      "72 2.28571\n",
      "73 2.28571\n",
      "74 2.28571\n",
      "75 2.28571\n",
      "76 2.28571\n",
      "77 2.28571\n",
      "78 2.28571\n",
      "79 2.28571\n",
      "80 2.28571\n",
      "81 2.28571\n",
      "82 2.28571\n",
      "83 2.28571\n",
      "84 2.28571\n",
      "85 2.28571\n",
      "86 2.28571\n",
      "87 2.28571\n",
      "88 2.28571\n",
      "89 2.28571\n",
      "90 2.28571\n",
      "91 2.28571\n",
      "92 2.28571\n",
      "93 2.28571\n",
      "94 2.28571\n",
      "95 2.28571\n",
      "96 2.28571\n",
      "97 2.28571\n",
      "98 2.28571\n",
      "99 2.28571\n"
     ]
    }
   ],
   "source": [
    "for step in range(100):\n",
    "    print(step,sess.run(W))\n",
    "    sess.run(train)"
   ]
  },
  {
   "cell_type": "code",
   "execution_count": null,
   "metadata": {
    "collapsed": true
   },
   "outputs": [],
   "source": []
  },
  {
   "cell_type": "code",
   "execution_count": null,
   "metadata": {
    "collapsed": true
   },
   "outputs": [],
   "source": []
  },
  {
   "cell_type": "code",
   "execution_count": null,
   "metadata": {
    "collapsed": true
   },
   "outputs": [],
   "source": []
  }
 ],
 "metadata": {
  "kernelspec": {
   "display_name": "Python 3",
   "language": "python",
   "name": "python3"
  },
  "language_info": {
   "codemirror_mode": {
    "name": "ipython",
    "version": 3
   },
   "file_extension": ".py",
   "mimetype": "text/x-python",
   "name": "python",
   "nbconvert_exporter": "python",
   "pygments_lexer": "ipython3",
   "version": "3.6.3"
  }
 },
 "nbformat": 4,
 "nbformat_minor": 2
}
