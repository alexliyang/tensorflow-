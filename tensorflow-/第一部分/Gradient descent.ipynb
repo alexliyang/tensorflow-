{
 "cells": [
  {
   "cell_type": "markdown",
   "metadata": {},
   "source": [
    "## Gradient descent"
   ]
  },
  {
   "attachments": {
    "image.png": {
     "image/png": "[encoded data removed]"
    }
   },
   "cell_type": "markdown",
   "metadata": {},
   "source": [
    "![image.png](attachment:image.png)"
   ]
  },
  {
   "cell_type": "code",
   "execution_count": 1,
   "metadata": {
    "collapsed": true
   },
   "outputs": [],
   "source": [
    "import tensorflow as tf"
   ]
  },
  {
   "cell_type": "code",
   "execution_count": 14,
   "metadata": {
    "collapsed": true
   },
   "outputs": [],
   "source": [
    "x_data = [1, 2, 3]\n",
    "y_data = [1, 2, 3]"
   ]
  },
  {
   "cell_type": "code",
   "execution_count": 15,
   "metadata": {},
   "outputs": [],
   "source": [
    "W = tf.Variable(tf.random_normal([1]),name = \"weight\")\n",
    "X = tf.placeholder(tf.float32)\n",
    "Y = tf.placeholder(tf.float32)"
   ]
  },
  {
   "cell_type": "code",
   "execution_count": 17,
   "metadata": {
    "collapsed": true
   },
   "outputs": [],
   "source": [
    "# our hypothesis for line model X*W\n",
    "hypothesis = X * W"
   ]
  },
  {
   "cell_type": "code",
   "execution_count": 18,
   "metadata": {
    "collapsed": true
   },
   "outputs": [],
   "source": [
    "# cost /loss function\n",
    "cost = tf.reduce_mean(tf.square(hypothesis-Y))"
   ]
  },
  {
   "cell_type": "code",
   "execution_count": 19,
   "metadata": {
    "collapsed": true
   },
   "outputs": [],
   "source": [
    "# Minimize: Gradient Descent using derivate: W -= learming_rate * derivate\n",
    "learning_rate = 0.1\n",
    "gradient = tf.reduce_mean((W * X - Y) * X)\n",
    "descent = W - learning_rate*gradient\n",
    "update = tf.assign(W,descent)# 就对权重进行更新\n"
   ]
  },
  {
   "cell_type": "code",
   "execution_count": 20,
   "metadata": {
    "collapsed": true
   },
   "outputs": [],
   "source": [
    "# lauch the graph in a sessiomn\n",
    "sess = tf.Session()"
   ]
  },
  {
   "cell_type": "code",
   "execution_count": 21,
   "metadata": {
    "collapsed": true
   },
   "outputs": [],
   "source": [
    "#Initialize gloable variable in the graph\n",
    "sess.run(tf.global_variables_initializer())"
   ]
  },
  {
   "cell_type": "code",
   "execution_count": 22,
   "metadata": {},
   "outputs": [
    {
     "name": "stdout",
     "output_type": "stream",
     "text": [
      "0 7.169 [-0.23944151]\n",
      "1 2.03918 [ 0.33896452]\n",
      "2 0.580035 [ 0.64744771]\n",
      "3 0.164988 [ 0.81197214]\n",
      "4 0.0469298 [ 0.89971846]\n",
      "5 0.0133489 [ 0.94651651]\n",
      "6 0.00379703 [ 0.97147548]\n",
      "7 0.00108004 [ 0.98478693]\n",
      "8 0.000307211 [ 0.99188638]\n",
      "9 8.73827e-05 [ 0.99567276]\n",
      "10 2.48564e-05 [ 0.99769211]\n",
      "11 7.07034e-06 [ 0.9987691]\n",
      "12 2.01105e-06 [ 0.99934351]\n",
      "13 5.72135e-07 [ 0.99964988]\n",
      "14 1.6276e-07 [ 0.99981326]\n",
      "15 4.62816e-08 [ 0.9999004]\n",
      "16 1.31557e-08 [ 0.99994689]\n",
      "17 3.73734e-09 [ 0.99997169]\n",
      "18 1.06303e-09 [ 0.99998492]\n",
      "19 3.012e-10 [ 0.99999195]\n",
      "20 8.59472e-11 [ 0.99999571]\n"
     ]
    }
   ],
   "source": [
    "for step in range(21):\n",
    "    sess.run(update,feed_dict={X:x_data,Y:y_data})\n",
    "    print(step,sess.run(cost,feed_dict={X:x_data, Y:y_data}),sess.run(W))"
   ]
  },
  {
   "cell_type": "code",
   "execution_count": null,
   "metadata": {
    "collapsed": true
   },
   "outputs": [],
   "source": []
  },
  {
   "cell_type": "code",
   "execution_count": null,
   "metadata": {
    "collapsed": true
   },
   "outputs": [],
   "source": []
  }
 ],
 "metadata": {
  "kernelspec": {
   "display_name": "Python 3",
   "language": "python",
   "name": "python3"
  },
  "language_info": {
   "codemirror_mode": {
    "name": "ipython",
    "version": 3
   },
   "file_extension": ".py",
   "mimetype": "text/x-python",
   "name": "python",
   "nbconvert_exporter": "python",
   "pygments_lexer": "ipython3",
   "version": "3.6.3"
  }
 },
 "nbformat": 4,
 "nbformat_minor": 2
}
